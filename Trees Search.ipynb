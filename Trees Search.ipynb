{
 "cells": [
  {
   "cell_type": "code",
   "execution_count": 3,
   "metadata": {},
   "outputs": [],
   "source": [
    "#!/usr/bin/python\n",
    "import random\n",
    "\n",
    "class Node:\n",
    "    def __init__(self, val):\n",
    "        self.l = None\n",
    "        self.r = None\n",
    "        self.v = val\n",
    "\n",
    "class Tree:\n",
    "    def __init__(self):\n",
    "        self.root = None\n",
    "        self.ary_nodes = list()\n",
    "        self.DFS_cont = 0\n",
    "\n",
    "    def add(self, total):\n",
    "        for i in range(0, total):\n",
    "            num = random.randint(1, 100)\n",
    "            self.ary_nodes.append(num)\n",
    "            if(self.root == None):\n",
    "                self.root = Node(num)\n",
    "            else:\n",
    "                self._add(num, self.root)\n",
    "\n",
    "    def _add(self, val, node):\n",
    "        side = random.uniform(0,1)\n",
    "        if(side < 0.5):\n",
    "            if(node.l != None):\n",
    "                self._add(val, node.l)\n",
    "            else:\n",
    "                node.l = Node(val)\n",
    "        else:\n",
    "            if(node.r != None):\n",
    "                self._add(val, node.r)\n",
    "            else:\n",
    "                node.r = Node(val)\n",
    "\n",
    "    def get_random_node(self):\n",
    "        rand_pos = random.randint(0, len(self.ary_nodes)-1)\n",
    "        return self.ary_nodes[rand_pos]\n",
    "    \n",
    "    def traverse(self):\n",
    "        current_level = [self.root]\n",
    "        while current_level:\n",
    "            print(' '.join(str(node.v) for node in current_level))\n",
    "            next_level = list()\n",
    "            for n in current_level:\n",
    "                if n.l:\n",
    "                    next_level.append(n.l)\n",
    "                if n.r:\n",
    "                    next_level.append(n.r)\n",
    "                current_level = next_level\n"
   ]
  },
  {
   "cell_type": "code",
   "execution_count": null,
   "metadata": {},
   "outputs": [],
   "source": []
  }
 ],
 "metadata": {
  "kernelspec": {
   "display_name": "Python 2",
   "language": "python",
   "name": "python2"
  },
  "language_info": {
   "codemirror_mode": {
    "name": "ipython",
    "version": 2
   },
   "file_extension": ".py",
   "mimetype": "text/x-python",
   "name": "python",
   "nbconvert_exporter": "python",
   "pygments_lexer": "ipython2",
   "version": "2.7.15rc1"
  }
 },
 "nbformat": 4,
 "nbformat_minor": 2
}
